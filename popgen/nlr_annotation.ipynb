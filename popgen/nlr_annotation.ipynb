{
 "cells": [
  {
   "cell_type": "code",
   "execution_count": null,
   "id": "09a389e3",
   "metadata": {},
   "outputs": [],
   "source": [
    "import egglib\n",
    "import glob \n",
    "import pandas as pd\n",
    "import numpy as np\n",
    "import os\n",
    "import seaborn as sns"
   ]
  },
  {
   "cell_type": "markdown",
   "id": "7fa3c62d",
   "metadata": {},
   "source": [
    "Goal: generate a dataframe with the majority vote NLR annotations across each clade"
   ]
  },
  {
   "cell_type": "code",
   "execution_count": null,
   "id": "0ec15dd2",
   "metadata": {},
   "outputs": [],
   "source": [
    "#gather alignments in fasta format \n",
    "directory='/global/scratch/users/chandlersutherland/e14/popgen/popgenome_test'\n",
    "files = glob.glob(os.path.join(directory, \"*.fas\"))"
   ]
  },
  {
   "cell_type": "markdown",
   "id": "2e7fa9b1",
   "metadata": {},
   "source": [
    "Let's compute by domain statistics. First, read in the annotations from the pan-nlrome. Then, convert to an alignment index and take the majority vote. "
   ]
  },
  {
   "cell_type": "code",
   "execution_count": null,
   "id": "d3e2b373",
   "metadata": {},
   "outputs": [],
   "source": [
    "tbl = pd.read_table('/global/scratch/users/chandlersutherland/e14/popgen/panl-nrlome-nlr-domains.tsv', error_bad_lines=False, names=['Gene', 'read', 'length', 'source', 'code', 'domain', 'start', 'stop', 'p', 'unknown', 'date', 'interpro', 'domain_2'])"
   ]
  },
  {
   "cell_type": "code",
   "execution_count": null,
   "id": "c821bf5e",
   "metadata": {},
   "outputs": [],
   "source": [
    "#what annotations are available for each clade? \n",
    "for fasta in files:\n",
    "    clade=fasta.split('/')[-1].split('.')[0]\n",
    "    aln=egglib.io.from_fasta(fasta, alphabet=egglib.alphabets.DNA)\n",
    "\n",
    "    names=[]\n",
    "    for i in range(0, aln.ns):\n",
    "        name=aln.get_sample(i).name\n",
    "        if name.startswith('ATHALIANA'):\n",
    "        #using just the primary transcript\n",
    "            clean=name.replace('ATHALIANA_', '6909|').replace('_1', '')+'.1'\n",
    "        else:\n",
    "            clean=name.replace('_', '|')\n",
    "        names.append(clean)\n",
    "\n",
    "    per_gene=tbl[tbl['Gene'].isin(names)]\n",
    "    print(clade, ':', per_gene['domain'].unique())"
   ]
  },
  {
   "cell_type": "markdown",
   "id": "2144546b",
   "metadata": {},
   "source": [
    "Define a few functions that will 1. get the names of the genes in each clade from the protein alignment file, 2. get the annotations for each gene, 3. reassign the DNA index to the protein index, 3. convert the annotation coordinates, 4. calculate a majority vote across the protein alignment. "
   ]
  },
  {
   "cell_type": "code",
   "execution_count": null,
   "id": "7571a130",
   "metadata": {},
   "outputs": [],
   "source": [
    "#from the fasta file, check the alignment object and return a list of gene names \n",
    "def get_names(fasta):\n",
    "    aln=egglib.io.from_fasta(fasta, alphabet=egglib.alphabets.DNA)\n",
    "\n",
    "    names=[]\n",
    "    for i in range(0, aln.ns):\n",
    "        name=aln.get_sample(i).name\n",
    "        if name.startswith('ATHALIANA'):\n",
    "        #using just the primary transcript\n",
    "            clean=name.replace('ATHALIANA_', '6909|').replace('_1', '')+'.1'\n",
    "        else:\n",
    "            clean=name.replace('_', '|')\n",
    "        names.append(clean)\n",
    "\n",
    "    return(names)\n",
    "\n",
    "#with those gene names, filter the annotation table \n",
    "def get_annotation(df, names):\n",
    "    per_gene=df[df['Gene'].isin(names)]\n",
    "    return(per_gene)\n",
    "\n",
    "#function to reassign the index. Takes in an amino acid sequence, and iterates through. \n",
    "def reassign_index(aa_sequence):\n",
    "    #generate an array of zeros the length of the protein \n",
    "    real_index=[0]*len(aa_sequence)\n",
    "    #start counting at one, not standard python index \n",
    "    num=0\n",
    "    \n",
    "    #iterate through protein sequence, skipping the gaps  \n",
    "    for aa in enumerate(aa_sequence): \n",
    "        index=aa[0]\n",
    "        if aa[1] != '-':\n",
    "            num=num+1\n",
    "            real_index[index]=num\n",
    "        if aa[1] == '-':\n",
    "            real_index[index]=num \n",
    "    \n",
    "    return real_index \n",
    "\n",
    "#function that outputs new coordinates that work for the alignment index \n",
    "def convert_coord(new_index, coord):\n",
    "    #convert to a 1 based indexing \n",
    "    return [i for i, x in enumerate(new_index) if x == coord+1]\n",
    "\n",
    "#write a function that takes in a list of genes and a df from the domain annotation file \n",
    "#and outputs the majority vote alignment coordinates for that domain \n",
    "def majority_vote(gene_list, df, fasta):\n",
    "    results=pd.DataFrame()\n",
    "    aln=egglib.io.from_fasta(fasta, alphabet=egglib.alphabets.DNA)\n",
    "    aln.to_codons()\n",
    "    prot = egglib.tools.translate(aln)\n",
    "\n",
    "    for seq in enumerate(gene_list):\n",
    "       #load sequence \n",
    "        aa_seq=prot.get_sequence(seq[0])\n",
    "\n",
    "        #and name from pal2nal alignment\n",
    "        name=prot.get_sample(seq[0])[0]\n",
    "\n",
    "        if name.startswith('ATHALIANA'):\n",
    "                #using just the primary transcript\n",
    "            clean=name.replace('ATHALIANA_', '6909|').replace('_1', '')+'.1'\n",
    "        else:\n",
    "            clean=name.replace('_', '|')\n",
    "        \n",
    "        #currently skipping when there are double annotations. For better or for worse.\n",
    "        if (clean in df['Gene'].unique() and len(df.loc[df['Gene']==clean])==1):\n",
    "            start=df.loc[df['Gene']==clean]['start'].item()\n",
    "            stop=df.loc[df['Gene']==clean]['stop'].item()\n",
    "\n",
    "            new_index=reassign_index(aa_seq)\n",
    "            new_start=convert_coord(new_index, start)\n",
    "            new_stop=convert_coord(new_index, stop)\n",
    "            results=results.append({'aln_start':new_start, 'aln_end':new_stop}, ignore_index=True)\n",
    "        else: \n",
    "            continue \n",
    "\n",
    "    results['aln_start']=results['aln_start'].str[0]\n",
    "    results['aln_end']=results['aln_end'].str[0]\n",
    "\n",
    "    aln_start=results.mode(axis=0).loc[0, 'aln_start']\n",
    "    aln_end=results.mode(axis=0).loc[0, 'aln_end']\n",
    "    return [aln_start, aln_end]"
   ]
  },
  {
   "cell_type": "code",
   "execution_count": null,
   "id": "d0257fe3",
   "metadata": {},
   "outputs": [],
   "source": [
    "nbarc_tbl=tbl[tbl['domain']=='NB-ARC domain']\n",
    "\n",
    "#calculate the majority vote across each alignment for the nbarc coordinates \n",
    "nbarc_aa_coords=pd.DataFrame()\n",
    "for fasta in files:\n",
    "    clade=fasta.split('/')[-1].split('.')[0]\n",
    "    gene_list=get_names(fasta)\n",
    "    df=get_annotation(nbarc_tbl, gene_list)\n",
    "    \n",
    "    try: \n",
    "        nbcoords=majority_vote(gene_list, df, fasta)\n",
    "        nbarc_aa_coords=nbarc_aa_coords.append({'clade':clade, 'start':nbcoords[0], 'end':nbcoords[1], 'domain':'nbarc'}, ignore_index=True)\n",
    "    except:\n",
    "        print(clade, ' could not compute nbarc coords')\n",
    "\n",
    "nbarc_aa_coords"
   ]
  },
  {
   "cell_type": "markdown",
   "id": "74598142",
   "metadata": {},
   "source": [
    "What are the issues with Int12974_336_433_R_14 and Int12974_336_426_R_8?"
   ]
  },
  {
   "cell_type": "code",
   "execution_count": null,
   "id": "b7cf49e3",
   "metadata": {},
   "outputs": [],
   "source": [
    "nbarc_tbl\n",
    "a=get_names('/global/scratch/users/chandlersutherland/e14/popgen/popgenome_test/'+'Int12974_336_433_R_14'+'.pal2nal.fas')\n",
    "b=get_names('/global/scratch/users/chandlersutherland/e14/popgen/popgenome_test/'+'Int12974_336_426_R_8'+'.pal2nal.fas')\n",
    "\n",
    "get_annotation(nbarc_tbl, a) \n",
    "get_annotation(nbarc_tbl,b)"
   ]
  },
  {
   "cell_type": "markdown",
   "id": "c08f5410",
   "metadata": {},
   "source": [
    "They each have double the NBARC domains. No Col-0 reps, so moving on for now. "
   ]
  },
  {
   "cell_type": "code",
   "execution_count": null,
   "id": "8300943e",
   "metadata": {},
   "outputs": [],
   "source": [
    "tir_tbl=tbl[tbl['domain']=='TIR domain']\n",
    "\n",
    "tir_aa_coords=pd.DataFrame()\n",
    "for fasta in files:\n",
    "    clade=fasta.split('/')[-1].split('.')[0]\n",
    "    gene_list=get_names(fasta)\n",
    "    df=get_annotation(tir_tbl, gene_list)\n",
    "    \n",
    "    try: \n",
    "        tircoords=majority_vote(gene_list, df, fasta)\n",
    "        tir_aa_coords=tir_aa_coords.append({'clade':clade, 'start':tircoords[0], 'end':tircoords[1], 'domain':'tir'}, ignore_index=True)\n",
    "    except:\n",
    "        print(clade, ' could not compute tir coords')\n",
    "\n",
    "tir_aa_coords"
   ]
  },
  {
   "cell_type": "code",
   "execution_count": null,
   "id": "28cb4b53",
   "metadata": {},
   "outputs": [],
   "source": [
    "cc_tbl=tbl[tbl['domain']=='maj_vote_coils_paircoils_nlrparser']\n",
    "\n",
    "cc_aa_coords=pd.DataFrame()\n",
    "for fasta in files:\n",
    "    clade=fasta.split('/')[-1].split('.')[0]\n",
    "    gene_list=get_names(fasta)\n",
    "    df=get_annotation(cc_tbl, gene_list)\n",
    "    \n",
    "    try: \n",
    "        cccoords=majority_vote(gene_list, df, fasta)\n",
    "        cc_aa_coords=cc_aa_coords.append({'clade':clade, 'start':cccoords[0], 'end':cccoords[1], 'domain':'cc'}, ignore_index=True)\n",
    "    except:\n",
    "        continue\n",
    "        print(clade, ' could not compute cc coords')\n",
    "\n",
    "cc_aa_coords"
   ]
  },
  {
   "cell_type": "markdown",
   "id": "54ce5e4e",
   "metadata": {},
   "source": [
    "Daniil ran LRRpredictor on the panNLRome NLRs. Use this to get a better annotation across the clades than the PFAM."
   ]
  },
  {
   "cell_type": "code",
   "execution_count": null,
   "id": "28317d92",
   "metadata": {},
   "outputs": [],
   "source": [
    "#read in pan nlrome and convert to appropriate format for functions \n",
    "pan_lrr_pred=pd.read_csv('/global/scratch/users/chandlersutherland/e14/popgen/Athaliana_panNLRome_lrrpred.txt', sep='\\t', index_col=False)\n",
    "pan_lrr_pred=pan_lrr_pred[pan_lrr_pred['#Prot']!='#Prot']\n",
    "pan_lrr_pred['pos'] = pd.to_numeric(pan_lrr_pred['pos'])\n",
    "pan_lrr_pred.dtypes\n",
    "rough=pan_lrr_pred.groupby('#Prot').pos.agg(['min', 'max']).reset_index()\n",
    "to_test=rough.rename(columns={'#Prot':'Gene', 'min':'start', 'max':'stop'})\n",
    "to_test['Gene']=to_test['Gene'].str.replace('_', '|')\n",
    "\n",
    "#read in Col0 and cleanup \n",
    "lrr_pred=pd.read_csv('/global/scratch/users/chandlersutherland/e14/popgen/col-0-nlrome.txt', sep='\\t')\n",
    "col=lrr_pred.groupby('annotation').start.agg(['min', 'max']).reset_index()\n",
    "col=col.rename(columns={'annotation':'Gene', 'min':'start', 'max':'stop'})\n",
    "col['Gene']=col['Gene'].str.replace('Athaliana_', '6909|').str.replace('_1', '.1')\n",
    "col0=col[col['Gene'].str.endswith('.1')]\n",
    "\n",
    "lrr_tbl=pd.concat([to_test, col0])"
   ]
  },
  {
   "cell_type": "code",
   "execution_count": null,
   "id": "4596efc6",
   "metadata": {},
   "outputs": [],
   "source": [
    "lrr_aa_coords=pd.DataFrame()\n",
    "for fasta in files:\n",
    "    clade=fasta.split('/')[-1].split('.')[0]\n",
    "    gene_list=get_names(fasta)\n",
    "    df=get_annotation(lrr_tbl, gene_list)\n",
    "    \n",
    "    try: \n",
    "        lrrcoords=majority_vote(gene_list, df, fasta)\n",
    "        lrr_aa_coords=lrr_aa_coords.append({'clade':clade, 'start':lrrcoords[0], 'end':lrrcoords[1], 'domain':'lrr'}, ignore_index=True)\n",
    "    except:\n",
    "        print(clade, ' could not compute lrr coords')\n",
    "        continue\n",
    "\n",
    "lrr_aa_coords"
   ]
  },
  {
   "cell_type": "markdown",
   "id": "28c509e0",
   "metadata": {},
   "source": [
    "Add coordinates for the entire cds to calculate gene-wide statistics "
   ]
  },
  {
   "cell_type": "code",
   "execution_count": null,
   "id": "8f38d613",
   "metadata": {},
   "outputs": [],
   "source": [
    "cds_coords=pd.DataFrame() \n",
    "for fasta in files: \n",
    "    clade=fasta.split('/')[-1].split('.')[0]\n",
    "    aln=egglib.io.from_fasta(fasta, alphabet=egglib.alphabets.DNA)\n",
    "    codon=egglib.tools.to_codons(aln)\n",
    "    length=codon.ls\n",
    "    cds_coords=cds_coords.append({'clade':clade, 'start':0, 'end':length, 'domain':'cds'}, ignore_index=True)\n",
    "    \n",
    "cds_coords"
   ]
  },
  {
   "cell_type": "code",
   "execution_count": null,
   "id": "08f35e19",
   "metadata": {},
   "outputs": [],
   "source": [
    "nlr_annotation=pd.concat([nbarc_aa_coords, cds_coords, lrr_aa_coords, tir_aa_coords, cc_aa_coords])\n",
    "nlr_annotation=nlr_annotation[['clade', 'start', 'end', 'domain']]\n",
    "nlr_annotation\n",
    "nlr_annotation.to_csv('/global/scratch/users/chandlersutherland/e14/popgen/nlr_aa_annotation.csv')"
   ]
  }
 ],
 "metadata": {
  "kernelspec": {
   "display_name": "Python 3.7",
   "language": "python",
   "name": "python3"
  },
  "language_info": {
   "codemirror_mode": {
    "name": "ipython",
    "version": 3
   },
   "file_extension": ".py",
   "mimetype": "text/x-python",
   "name": "python",
   "nbconvert_exporter": "python",
   "pygments_lexer": "ipython3",
   "version": "3.7.4"
  }
 },
 "nbformat": 4,
 "nbformat_minor": 5
}
