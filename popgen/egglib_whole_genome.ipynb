{
 "cells": [
  {
   "cell_type": "code",
   "execution_count": null,
   "id": "522d771e",
   "metadata": {},
   "outputs": [],
   "source": [
    "import egglib\n",
    "import glob \n",
    "import pandas as pd\n",
    "import numpy as np\n",
    "import os\n",
    "import ipyparallel as ipp\n",
    "import matplotlib.pyplot as plt\n",
    "import time\n",
    "from scipy.stats import pearsonr"
   ]
  },
  {
   "cell_type": "code",
   "execution_count": null,
   "id": "d16f8111",
   "metadata": {},
   "outputs": [],
   "source": [
    "print(egglib.__version__)\n",
    "print(ipp.__version__)"
   ]
  },
  {
   "cell_type": "markdown",
   "id": "5b58724e",
   "metadata": {},
   "source": [
    "Run egglib on VCFs containing invariant and variant sites from accessions used to create NLRome"
   ]
  },
  {
   "cell_type": "code",
   "execution_count": null,
   "id": "64ab27bf",
   "metadata": {},
   "outputs": [],
   "source": [
    "#save file names in chromosome order\n",
    "directory='/global/scratch/users/chandlersutherland/e14/popgen/vcf_1001_full/'\n",
    "files = glob.glob(os.path.join(directory, \"nlrome_invar_*_cds.recode.vcf\"))\n",
    "files.sort()"
   ]
  },
  {
   "cell_type": "code",
   "execution_count": null,
   "id": "2cc127f4",
   "metadata": {},
   "outputs": [],
   "source": [
    "#load the CDS bed file \n",
    "bed=pd.read_csv('/global/scratch/users/chandlersutherland/e14/popgen/vcf_1001_full/cds.bed', index_col=0)"
   ]
  },
  {
   "cell_type": "code",
   "execution_count": null,
   "id": "b94858ff",
   "metadata": {},
   "outputs": [],
   "source": [
    "#define a fucntion that takes the vcf path, creates a vcf object and an index, then returns the egglib vcf object \n",
    "def importer(vcf_path):\n",
    "    vcf=egglib.io.VcfParser(vcf_path)\n",
    "    egglib.io.make_vcf_index(vcf_path)\n",
    "    vcf.load_index(vcf_path+'i')\n",
    "    return vcf\n",
    "\n",
    "vcf1=importer(files[0])\n",
    "vcf2=importer(files[1])\n",
    "vcf3=importer(files[2])\n",
    "vcf4=importer(files[3])\n",
    "vcf5=importer(files[4])"
   ]
  },
  {
   "cell_type": "code",
   "execution_count": null,
   "id": "1e0c2093",
   "metadata": {},
   "outputs": [],
   "source": [
    "#iterate through the file and see if egglib errors on any problematic lines\n",
    "#only have to do this once \n",
    "def parse_check(vcf, chrom):\n",
    "    vcf.goto(chrom, position=egglib.io.FIRST)\n",
    "    ln=0\n",
    "    for i in vcf:\n",
    "        ln += 1\n",
    "        try: \n",
    "            chrom, pos, nall=next(vcf)\n",
    "            #print(chrom, pos, nall)\n",
    "        except:\n",
    "            print('error line', ln)\n",
    "            print(chrom, pos)\n",
    "            #next(vcf)\n",
    "    return print('checked')\n",
    "\n",
    "print(files[0])\n",
    "parse_check(vcf1, '1')\n",
    "print(files[1])\n",
    "parse_check(vcf2, '2')\n",
    "print(files[2])\n",
    "parse_check(vcf3, '3')\n",
    "print(files[3])\n",
    "parse_check(vcf4, '4')\n",
    "print(files[4])\n",
    "parse_check(vcf5, '5')"
   ]
  },
  {
   "cell_type": "code",
   "execution_count": null,
   "id": "169abc25",
   "metadata": {},
   "outputs": [],
   "source": [
    "#function that takes chromosome, CDS start, and CDS end, then returns an array with the vcf sites in that zone\n",
    "def exon_search(bed_chrom, bed_start, bed_end, vcf):\n",
    "    array=[]\n",
    "    for i in vcf:\n",
    "        chrom, pos, nall = next(vcf)\n",
    "        if int(chrom) == bed_chrom:\n",
    "            if pos >= bed_start and pos <= bed_end:\n",
    "                site=vcf.get_genotypes()\n",
    "                array.append(site)\n",
    "            if pos > bed_end:\n",
    "                break\n",
    "    return array"
   ]
  },
  {
   "cell_type": "code",
   "execution_count": null,
   "id": "b1b5a3d5",
   "metadata": {},
   "outputs": [],
   "source": [
    "#takes in CDS, harvests sites for each piece of the CDS, then calculate over it \n",
    "def combine_cds(one_gene, vcf):\n",
    "    cs = egglib.stats.ComputeStats()\n",
    "    cs.configure(multi_hits=True, multi=False)\n",
    "    cs.add_stats('Pi', 'lseff', 'D')\n",
    "\n",
    "    sites=[]\n",
    "    cds_length=0\n",
    "    for index, row in one_gene.iterrows():\n",
    "        bed_chrom=int(row['chrom'])\n",
    "        bed_start=int(row['bedStart'])\n",
    "        bed_end=int(row['bedEnd'])\n",
    "        cds_length += bed_end-bed_start\n",
    "        results=exon_search(bed_chrom, bed_start, bed_end, vcf)\n",
    "        sites.extend(results)\n",
    "\n",
    "    stats=cs.process_sites(sites)\n",
    "    \n",
    "    lseff=stats['lseff']\n",
    "    D=stats['D']\n",
    "    if pd.isnull(stats['D']):\n",
    "        D=np.nan\n",
    "    Pi=stats['Pi']\n",
    "        \n",
    "    gene=one_gene.iloc[0,3]\n",
    "    result={'gene':gene, 'Pi_raw':Pi, 'D':D, 'lseff':lseff, 'cds_length':cds_length}\n",
    "    return result"
   ]
  },
  {
   "cell_type": "code",
   "execution_count": null,
   "id": "513c29dd",
   "metadata": {},
   "outputs": [],
   "source": [
    "#takes in chromosome integer, performs calculations, and outputs \n",
    "def wrapper(i):\n",
    "    vcf=importer(files[i-1]) #import vcf file (convert to 0 integer indexing)\n",
    "    genes=bed[bed['chrom']==i]['name'].unique() #filter gene list \n",
    "    bed_g=bed.groupby(['name'])\n",
    "    stats=pd.DataFrame()\n",
    "    vcf.goto(str(i), position=egglib.io.FIRST)\n",
    "    for j in genes:\n",
    "       sub=bed_g.get_group(j)\n",
    "       result=combine_cds(sub, vcf)\n",
    "       stats=stats.append(result, ignore_index=True)\n",
    "    return stats"
   ]
  },
  {
   "cell_type": "markdown",
   "id": "9e570864",
   "metadata": {},
   "source": [
    "This is going to take a long time, and since everything is split by chromosome let's try running in parallel."
   ]
  },
  {
   "cell_type": "code",
   "execution_count": null,
   "id": "76723b99",
   "metadata": {},
   "outputs": [],
   "source": [
    "#first create client to interact with cluster \n",
    "my_cluster=ipp.Cluster(n=5)\n",
    "c=my_cluster.start_and_connect_sync()\n",
    "c.ids"
   ]
  },
  {
   "cell_type": "code",
   "execution_count": null,
   "id": "74b2fda0",
   "metadata": {},
   "outputs": [],
   "source": [
    "#create direct view objects \n",
    "dview=c[:]\n",
    "dview.block=True"
   ]
  },
  {
   "cell_type": "code",
   "execution_count": null,
   "id": "081d04cc",
   "metadata": {},
   "outputs": [],
   "source": [
    "#load necessary packages in worker processes \n",
    "dview.execute('import pandas as pd')\n",
    "dview.execute('import egglib')\n",
    "dview.execute('import numpy as np')"
   ]
  },
  {
   "cell_type": "code",
   "execution_count": null,
   "id": "5a8d08bb",
   "metadata": {},
   "outputs": [],
   "source": [
    "#this chunk runs the calculation, takes forever!!\n",
    "mydict=dict(bed=bed, files=files, combine_cds=combine_cds, exon_search=exon_search, importer=importer)\n",
    "dview.push(mydict)\n",
    "res=dview.map(wrapper, range(1,6))\n",
    "res"
   ]
  },
  {
   "cell_type": "code",
   "execution_count": null,
   "id": "b7ec8dda",
   "metadata": {},
   "outputs": [],
   "source": [
    "#concatenate dataframes and save the result \n",
    "stats=pd.concat(res)\n",
    "stats['Pi_by_dna']=stats['Pi_raw']/stats['cds_length']\n",
    "stats['Pi_by_lseff']=stats['Pi_raw']/stats['lseff']\n",
    "stats.to_csv('/global/scratch/users/chandlersutherland/e14/popgen/vcf_1001_full/cds_egglib_all.csv')"
   ]
  }
 ],
 "metadata": {
  "kernelspec": {
   "display_name": "Python 3.7",
   "language": "python",
   "name": "python3"
  },
  "language_info": {
   "codemirror_mode": {
    "name": "ipython",
    "version": 3
   },
   "file_extension": ".py",
   "mimetype": "text/x-python",
   "name": "python",
   "nbconvert_exporter": "python",
   "pygments_lexer": "ipython3",
   "version": "3.7.4"
  }
 },
 "nbformat": 4,
 "nbformat_minor": 5
}
